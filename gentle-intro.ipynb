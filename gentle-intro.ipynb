{
  "cells": [
    {
      "cell_type": "markdown",
      "metadata": {
        "id": "view-in-github",
        "colab_type": "text"
      },
      "source": [
        "<a href=\"https://colab.research.google.com/github/mduchin/ohio-precincts/blob/master/gentle-intro.ipynb\" target=\"_parent\"><img src=\"https://colab.research.google.com/assets/colab-badge.svg\" alt=\"Open In Colab\"/></a>"
      ]
    },
    {
      "cell_type": "markdown",
      "source": [
        "# Welcome to \"Data and the State\"!  \n",
        "(PUBPOL 2130 / INFO 3130)\n",
        "\n",
        "This is the warmup notebook for Spring 2025."
      ],
      "metadata": {
        "id": "RIYgTahqkxQl"
      }
    },
    {
      "cell_type": "markdown",
      "metadata": {
        "id": "SPLRbGfGkwF5"
      },
      "source": [
        "## Python Basics"
      ]
    },
    {
      "cell_type": "markdown",
      "source": [
        "We will start with \"Hello World\" -- everybody always starts with \"Hello World\" 😀"
      ],
      "metadata": {
        "id": "q73CTUL8lL_X"
      }
    },
    {
      "cell_type": "code",
      "execution_count": null,
      "metadata": {
        "id": "mLRz29sikwF6",
        "outputId": "f46ac613-b690-4206-babc-921f521bd7fd"
      },
      "outputs": [
        {
          "name": "stdout",
          "output_type": "stream",
          "text": [
            "Hello World\n"
          ]
        }
      ],
      "source": [
        "# this is a comment.  The next line will print.\n",
        "print(\"Hello World\")"
      ]
    },
    {
      "cell_type": "code",
      "execution_count": null,
      "metadata": {
        "id": "2ce8VR43kwF6",
        "outputId": "859dad09-e41c-428a-b2ba-5f1c53c5bc0e"
      },
      "outputs": [
        {
          "name": "stdout",
          "output_type": "stream",
          "text": [
            "3.13.1 (v3.13.1:06714517797, Dec  3 2024, 14:00:22) [Clang 15.0.0 (clang-1500.3.9.4)]\n"
          ]
        }
      ],
      "source": [
        "# Find out what version of python you're using!\n",
        "import sys\n",
        "\n",
        "print(sys.version)"
      ]
    },
    {
      "cell_type": "markdown",
      "metadata": {
        "id": "hGAKpvAmkwF6"
      },
      "source": [
        "##Indentation\n",
        "\n",
        "Let's experiment with whether indentation matters.\n",
        "\n",
        "\n",
        "\n"
      ]
    },
    {
      "cell_type": "code",
      "execution_count": null,
      "metadata": {
        "id": "QY3mbgtDkwF6",
        "outputId": "8b7b56be-3cdf-4fc0-fc75-4d081bc4d97a"
      },
      "outputs": [
        {
          "name": "stdout",
          "output_type": "stream",
          "text": [
            "five greater than two\n"
          ]
        }
      ],
      "source": [
        "if 5>2:\n",
        "    print(\"five greater than two\")"
      ]
    },
    {
      "cell_type": "code",
      "execution_count": null,
      "metadata": {
        "id": "Vq-nQQKikwF6",
        "outputId": "48968a4c-720c-4aa8-ef7a-10f3685ef39c"
      },
      "outputs": [
        {
          "ename": "IndentationError",
          "evalue": "expected an indented block after 'if' statement on line 1 (142486041.py, line 2)",
          "output_type": "error",
          "traceback": [
            "\u001b[0;36m  Cell \u001b[0;32mIn[6], line 2\u001b[0;36m\u001b[0m\n\u001b[0;31m    print(\" pigs can fly\")\u001b[0m\n\u001b[0m    ^\u001b[0m\n\u001b[0;31mIndentationError\u001b[0m\u001b[0;31m:\u001b[0m expected an indented block after 'if' statement on line 1\n"
          ]
        }
      ],
      "source": [
        "if 5>2:\n",
        "print(\" pigs can fly\")"
      ]
    },
    {
      "cell_type": "code",
      "execution_count": null,
      "metadata": {
        "id": "zq-U4_JukwF6",
        "outputId": "44317b3e-b2fb-4df2-b514-ee2984cf9b3f"
      },
      "outputs": [
        {
          "name": "stdout",
          "output_type": "stream",
          "text": [
            "I hate icecream\n"
          ]
        }
      ],
      "source": [
        "if 5>2:\n",
        "            print(\"I hate ice-cream\")\n"
      ]
    },
    {
      "cell_type": "markdown",
      "metadata": {
        "id": "dG61nwawkwF6"
      },
      "source": [
        "##Variables\n",
        "\n",
        "A variable is a named location in memory that stores a value."
      ]
    },
    {
      "cell_type": "code",
      "execution_count": null,
      "metadata": {
        "id": "i0KZKdn0kwF7",
        "outputId": "3673574e-0a99-4773-a1c6-88d53d49bc7b"
      },
      "outputs": [
        {
          "name": "stdout",
          "output_type": "stream",
          "text": [
            "Hello World\n",
            "8\n"
          ]
        }
      ],
      "source": [
        "# Creating a variable\n",
        "x = 8\n",
        "y = \"Hello World\"\n",
        "print(y)\n",
        "print(x)"
      ]
    },
    {
      "cell_type": "code",
      "execution_count": null,
      "metadata": {
        "id": "qKZeZpyEkwF7",
        "outputId": "d694b182-90bf-44a2-c83e-2b7e0fccf394"
      },
      "outputs": [
        {
          "name": "stdout",
          "output_type": "stream",
          "text": [
            "Ithaca\n"
          ]
        }
      ],
      "source": [
        "# You can override the value of variable\n",
        "x = \"Ithaca\"\n",
        "print(x)"
      ]
    },
    {
      "cell_type": "markdown",
      "source": [
        "There are various ways of styling your variable names, and some people feel strongly about their aesthetic merits."
      ],
      "metadata": {
        "id": "gVoCbJPylv-k"
      }
    },
    {
      "cell_type": "code",
      "execution_count": null,
      "metadata": {
        "id": "twP-x8pVkwF7",
        "outputId": "29f81c07-b8e7-4431-a7df-75bdbfd0ebfa"
      },
      "outputs": [
        {
          "name": "stdout",
          "output_type": "stream",
          "text": [
            "Cornell University\n",
            "PUB-POL-2130\n",
            "Data & Governance\n"
          ]
        }
      ],
      "source": [
        "# variable naming hygiene\n",
        "myVariableName = \"Cornell University\" # Camel case\n",
        "my_variable_name = \"PUB-POL-2130\" # Snake case\n",
        "MyVariableName2 = \"Data & Governance\" # Pascal case\n",
        "# 2varnam = \"Professor\" # The script in this line will fail, do you know why?\n",
        "\n",
        "# printing values\n",
        "print(myVariableName)\n",
        "print(my_variable_name)\n",
        "print(MyVariableName2)\n",
        "# print(2varnam)\n"
      ]
    },
    {
      "cell_type": "markdown",
      "metadata": {
        "id": "udosacNNkwF7"
      },
      "source": [
        "##Comments\n",
        "\n",
        "Comments are lines of code that the interpreter ignores during execution. They are used to explain the code, making it more readable for humans -- this includes your graders and, possibly more important, YOUR FUTURE SELF."
      ]
    },
    {
      "cell_type": "code",
      "execution_count": null,
      "metadata": {
        "id": "uRC3xf2pkwF7"
      },
      "outputs": [],
      "source": [
        "# comment\n",
        "# Use the shortcut Cmd + / to comment multiple lines\n",
        "# ''' and \"\"\"\" may be interpreted as string declaration in Python"
      ]
    },
    {
      "cell_type": "markdown",
      "metadata": {
        "id": "2_VsWYkBkwF7"
      },
      "source": [
        "##Data Types\n",
        "\n",
        "Use this code snippet to create variables of different data types having the same value (11, here). Finally, print the data type of each variable."
      ]
    },
    {
      "cell_type": "code",
      "execution_count": null,
      "metadata": {
        "id": "r0KA4nDvkwF7",
        "outputId": "c5dc40c6-64f0-4d92-943f-2f0e54cbd825"
      },
      "outputs": [
        {
          "name": "stdout",
          "output_type": "stream",
          "text": [
            "11\n",
            "11\n",
            "11.0\n",
            "<class 'str'>\n",
            "<class 'int'>\n",
            "<class 'float'>\n"
          ]
        }
      ],
      "source": [
        "# Creating variables with specified data types\n",
        "x = str(11)\n",
        "y = int(11)\n",
        "z = float(11)\n",
        "\n",
        "# printing the variables\n",
        "print(x)\n",
        "print(y)\n",
        "print(z)\n",
        "\n",
        "# printing the data type of each variable\n",
        "print(type(x))\n",
        "print(type(y))\n",
        "print(type(z))"
      ]
    },
    {
      "cell_type": "code",
      "execution_count": null,
      "metadata": {
        "id": "DAEB17zgkwF7",
        "outputId": "94b8d961-5f42-4353-be32-e099be83e00e"
      },
      "outputs": [
        {
          "name": "stdout",
          "output_type": "stream",
          "text": [
            "11\n",
            "11\n",
            "11.0\n"
          ]
        }
      ],
      "source": [
        "# aim for efficient code\n",
        "x, y, z = str(11), int(11), float(11)\n",
        "print(x)\n",
        "print(y)\n",
        "print(z)"
      ]
    },
    {
      "cell_type": "code",
      "execution_count": null,
      "metadata": {
        "id": "IdlImkAfkwF7",
        "outputId": "d79c22d8-8211-4624-a089-e64a139b8ce6"
      },
      "outputs": [
        {
          "name": "stdout",
          "output_type": "stream",
          "text": [
            "11\n",
            "11\n",
            "11.0\n",
            "11 11 11.0\n",
            "22.0\n"
          ]
        }
      ],
      "source": [
        "# if you are going to re-use x,y,z as a list\n",
        "vars = [str(11), int(11), float(11)]\n",
        "x, y, z = vars\n",
        "print(x)\n",
        "print(y)\n",
        "print(z)\n",
        "\n",
        "print(x,y,z)\n",
        "print(y+z)"
      ]
    },
    {
      "cell_type": "code",
      "execution_count": null,
      "metadata": {
        "id": "B6EGkm_GkwF7",
        "outputId": "e84cca94-029d-4c94-a970-1bfa66812c5a"
      },
      "outputs": [
        {
          "name": "stdout",
          "output_type": "stream",
          "text": [
            "11 11 11.0\n",
            "<class 'str'> <class 'int'> <class 'float'>\n",
            "11 11.0 11\n",
            "<class 'int'> <class 'float'> <class 'str'>\n"
          ]
        }
      ],
      "source": [
        "# converting data types\n",
        "\n",
        "print(x, y, z)\n",
        "print(type(x), type(y), type(z))\n",
        "\n",
        "a, b, c = int(x), float(y), str(int(z))\n",
        "\n",
        "print(a, b, c)\n",
        "print(type(a), type(b), type(c))\n"
      ]
    },
    {
      "cell_type": "code",
      "execution_count": null,
      "metadata": {
        "id": "9HPhi91okwF7",
        "outputId": "9ee9c575-5f07-4e30-9bc6-a3ae766e011c"
      },
      "outputs": [
        {
          "name": "stdout",
          "output_type": "stream",
          "text": [
            "Kutti\n",
            "Singh\n",
            "KuttiSingh\n"
          ]
        }
      ],
      "source": [
        "# Syntax to declare a string, personal choice!\n",
        "x = \"Kutti\"\n",
        "X = 'Singh'\n",
        "\n",
        "# printing variable\n",
        "print(x)\n",
        "print(X)\n",
        "\n",
        "print(x + X)"
      ]
    },
    {
      "cell_type": "markdown",
      "metadata": {
        "id": "JzSzZD-LkwF7"
      },
      "source": [
        "Why does the print function result in two values? How come \"Singh\" does not overwrite \"Kutti\"?"
      ]
    },
    {
      "cell_type": "code",
      "execution_count": null,
      "metadata": {
        "id": "wlMcNPk8kwF7",
        "outputId": "7d1d61b1-7612-4c5d-a845-e42f8d9106d8"
      },
      "outputs": [
        {
          "name": "stdout",
          "output_type": "stream",
          "text": [
            "this is the syntax\n",
            "for printing\n",
            "multiple lines\n",
            "of text\n",
            "\n"
          ]
        }
      ],
      "source": [
        "# printing multiple lines of text\n",
        "a = \"\"\"this is the syntax\n",
        "for printing\n",
        "multiple lines\n",
        "of text\n",
        "\"\"\"\n",
        "\n",
        "print(a)"
      ]
    },
    {
      "cell_type": "markdown",
      "metadata": {
        "id": "AEkBqqYSkwF7"
      },
      "source": [
        "\n",
        "##Global & Local Variables"
      ]
    },
    {
      "cell_type": "code",
      "execution_count": null,
      "metadata": {
        "id": "KxJ1XHzqkwF7",
        "outputId": "3ba6895f-aee6-403c-e6a1-3c685f1b3002"
      },
      "outputs": [
        {
          "name": "stdout",
          "output_type": "stream",
          "text": [
            "I am taking PUBPOL-5550 in my first semester\n",
            "I am taking PUBPOL-2130 in my first semester\n"
          ]
        }
      ],
      "source": [
        "# global variable\n",
        "className = \"PUBPOL-2130\"\n",
        "\n",
        "def myfunc(): # defining function\n",
        "  # local variable, alue is valid only within the function\n",
        "  className = \"PUBPOL-5550\"\n",
        "  print(\"I am taking \" + className + \" in my first semester\")\n",
        "\n",
        "myfunc() # end of function\n",
        "\n",
        "print(\"I am taking \" + className + \" in my first semester\")\n"
      ]
    },
    {
      "cell_type": "code",
      "execution_count": null,
      "metadata": {
        "id": "n1vjdQGFkwF7",
        "outputId": "56e53c9b-63f6-4459-f18d-efdde4be5089"
      },
      "outputs": [
        {
          "name": "stdout",
          "output_type": "stream",
          "text": [
            "I am taking PUB-POL-5550 in my first semester\n",
            "I am taking PUB-POL-5550 in my first semester\n"
          ]
        }
      ],
      "source": [
        "# global variable\n",
        "className = \"PUB-POL-2130\"\n",
        "\n",
        "def myfunc(): # defining function\n",
        "  global className # telling the compiler that we're talking about global x\n",
        "  className = \"PUB-POL-5550\" # changing global x\n",
        "  print(\"I am taking \" + className + \" in my first semester\")\n",
        "\n",
        "myfunc() # end of function\n",
        "\n",
        "print(\"I am taking \" + className + \" in my first semester\")"
      ]
    },
    {
      "cell_type": "markdown",
      "source": [
        "And a dash of randomness.  For mathy tasks, you may have to import relevant packages."
      ],
      "metadata": {
        "id": "K3p2i9EC436J"
      }
    },
    {
      "cell_type": "code",
      "execution_count": null,
      "metadata": {
        "id": "Ib4AtVKWkwF8",
        "outputId": "d7f9aa9b-0ea7-416e-beac-ba3afb5caac7"
      },
      "outputs": [
        {
          "name": "stdout",
          "output_type": "stream",
          "text": [
            "9\n"
          ]
        }
      ],
      "source": [
        "import random\n",
        "\n",
        "print(random.randrange(1, 10))"
      ]
    },
    {
      "cell_type": "markdown",
      "metadata": {
        "id": "ma3nkjaSkwF8"
      },
      "source": [
        "##Strings in Python\n",
        "\n",
        "Strings are a fundamental data type used to represent text data. They are immutable in Python, meaning you cannot change their contents directly. If you want to modify a string, you need to create a new one.\n",
        "\n",
        "The blocks below are made for you to PLAY AROUND WITH."
      ]
    },
    {
      "cell_type": "code",
      "execution_count": null,
      "metadata": {
        "id": "jJoPwbqrkwF8",
        "outputId": "3595c5ba-763f-4bfc-d2fc-24dec8071feb"
      },
      "outputs": [
        {
          "name": "stdout",
          "output_type": "stream",
          "text": [
            "b\n",
            "a\n",
            "n\n",
            "a\n",
            "n\n",
            "a\n"
          ]
        }
      ],
      "source": [
        "for e in \"banana\":\n",
        "  print(e)"
      ]
    },
    {
      "cell_type": "code",
      "execution_count": null,
      "metadata": {
        "id": "qzrgE-w5kwF8",
        "outputId": "e4b8518a-07ff-461b-d3c0-b587c91873f2"
      },
      "outputs": [
        {
          "name": "stdout",
          "output_type": "stream",
          "text": [
            "a\n",
            "5\n"
          ]
        }
      ],
      "source": [
        "f = \"candy\"\n",
        "print(f[1])\n",
        "print(len(f))"
      ]
    },
    {
      "cell_type": "code",
      "execution_count": null,
      "metadata": {
        "id": "IanNs3ETkwF8",
        "outputId": "84dd4cd3-d7a6-4bc8-eca8-c6251a843d8a"
      },
      "outputs": [
        {
          "name": "stdout",
          "output_type": "stream",
          "text": [
            "True\n"
          ]
        }
      ],
      "source": [
        "txt = \"The best things in life are free!\"\n",
        "print(\"free\" in txt)"
      ]
    },
    {
      "cell_type": "code",
      "execution_count": null,
      "metadata": {
        "id": "-tbzo_PXkwF8"
      },
      "outputs": [],
      "source": [
        "txt = \"The best things in life are free!\"\n",
        "if \"butter\" in txt:\n",
        "  print(\"Yes, 'free' is present.\")"
      ]
    },
    {
      "cell_type": "code",
      "execution_count": null,
      "metadata": {
        "id": "RX0S8Tq0kwF8",
        "outputId": "c0803b39-7fe0-47a4-df79-36eee662e4b8"
      },
      "outputs": [
        {
          "name": "stdout",
          "output_type": "stream",
          "text": [
            "True\n"
          ]
        }
      ],
      "source": [
        "txt = \"The best things in life are free!\"\n",
        "print(\"expensive\" not in txt)"
      ]
    },
    {
      "cell_type": "code",
      "execution_count": null,
      "metadata": {
        "id": "pTGu7X8TkwF8",
        "outputId": "dc1ec47d-3eb9-4f92-a56f-504462d6bfde"
      },
      "outputs": [
        {
          "name": "stdout",
          "output_type": "stream",
          "text": [
            "No, 'expensive' is NOT present.\n"
          ]
        }
      ],
      "source": [
        "txt = \"The best things in life are free!\"\n",
        "if \"expensive\" not in txt:\n",
        "  print(\"No, 'expensive' is NOT present.\")"
      ]
    },
    {
      "cell_type": "code",
      "execution_count": null,
      "metadata": {
        "id": "mL3I5xXkkwF8",
        "outputId": "b7aca77e-12c0-421d-d33a-3839c07e66c2"
      },
      "outputs": [
        {
          "name": "stdout",
          "output_type": "stream",
          "text": [
            ", World!   \n",
            "d! \n",
            "HELLO, WORLD!   \n",
            "hello, world!   \n",
            "Hello, World!\n",
            "Jello, World!   \n",
            "['Hello', ' World!   ']\n"
          ]
        }
      ],
      "source": [
        "b = \"Hello, World!   \"\n",
        "print(b[5:])\n",
        "print(b[-5:-2])\n",
        "\n",
        "print(b.upper())\n",
        "print(b.lower())\n",
        "\n",
        "print(b.strip())\n",
        "print(b.replace(\"H\", \"J\"))\n",
        "print(b.split(\",\"))"
      ]
    },
    {
      "cell_type": "markdown",
      "metadata": {
        "id": "t0B4rASrkwF8"
      },
      "source": [
        "##Concatenation\n",
        "\n",
        "Concatenation is the process of joining two or more strings together to create a new string. Let's explore concatenation methods!"
      ]
    },
    {
      "cell_type": "code",
      "execution_count": null,
      "metadata": {
        "id": "p-1EKzkEkwF8",
        "outputId": "c6b1ac5d-8559-4b7a-e57f-1d02934d3bb7"
      },
      "outputs": [
        {
          "ename": "TypeError",
          "evalue": "can only concatenate str (not \"int\") to str",
          "output_type": "error",
          "traceback": [
            "\u001b[0;31m---------------------------------------------------------------------------\u001b[0m",
            "\u001b[0;31mTypeError\u001b[0m                                 Traceback (most recent call last)",
            "Cell \u001b[0;32mIn[128], line 2\u001b[0m\n\u001b[1;32m      1\u001b[0m age \u001b[38;5;241m=\u001b[39m \u001b[38;5;241m31\u001b[39m\n\u001b[0;32m----> 2\u001b[0m txt \u001b[38;5;241m=\u001b[39m \u001b[38;5;124;43m\"\u001b[39;49m\u001b[38;5;124;43mI am \u001b[39;49m\u001b[38;5;124;43m\"\u001b[39;49m\u001b[43m \u001b[49m\u001b[38;5;241;43m+\u001b[39;49m\u001b[43m \u001b[49m\u001b[43mage\u001b[49m \u001b[38;5;241m+\u001b[39m \u001b[38;5;124m\"\u001b[39m\u001b[38;5;124m years old\u001b[39m\u001b[38;5;124m\"\u001b[39m\n\u001b[1;32m      3\u001b[0m \u001b[38;5;28mprint\u001b[39m(txt)\n",
            "\u001b[0;31mTypeError\u001b[0m: can only concatenate str (not \"int\") to str"
          ]
        }
      ],
      "source": [
        "# Let's try to create a sentence from a variabe and text string!\n",
        "age = 31\n",
        "txt = \"I am \" + age + \" years old\"\n",
        "print(txt)"
      ]
    },
    {
      "cell_type": "code",
      "execution_count": null,
      "metadata": {
        "id": "5q7Eq8E-kwF8",
        "outputId": "a341eac9-842e-48f8-a72f-a7a1343004fa"
      },
      "outputs": [
        {
          "name": "stdout",
          "output_type": "stream",
          "text": [
            "I am 31 years old\n"
          ]
        }
      ],
      "source": [
        "# Concatenation using placeholders\n",
        "age = 31\n",
        "txt = f\"I am {age} years old\"\n",
        "print(txt)\n",
        "\n"
      ]
    },
    {
      "cell_type": "markdown",
      "source": [
        "Why did this code block work while the previous one failed?"
      ],
      "metadata": {
        "id": "iiYUZfen5TRL"
      }
    },
    {
      "cell_type": "code",
      "execution_count": null,
      "metadata": {
        "id": "bQLN5k8JkwF8",
        "outputId": "26190e6b-25bd-414f-9af9-e44d6f1f2d98"
      },
      "outputs": [
        {
          "name": "stdout",
          "output_type": "stream",
          "text": [
            "The job pays $22.00 per hour\n",
            "You will earn $330 per week\n"
          ]
        }
      ],
      "source": [
        "# Concatenation operation using modifiers\n",
        "price = 22\n",
        "txt = f\"The job pays ${price:.2f} per hour\"\n",
        "earn = f\"You will earn ${price*15} per week\"\n",
        "print(txt)\n",
        "print(earn)"
      ]
    },
    {
      "cell_type": "markdown",
      "source": [
        "What if you want to quote something within a string? How do you tell the interpreter which part is the quote versus the string?\n"
      ],
      "metadata": {
        "id": "mCMl9mba5XTf"
      }
    },
    {
      "cell_type": "code",
      "execution_count": null,
      "metadata": {
        "id": "sPpCXoYskwF8",
        "outputId": "93377b4e-31d9-4944-855a-12026bae7f08"
      },
      "outputs": [
        {
          "ename": "SyntaxError",
          "evalue": "invalid syntax (1573434571.py, line 2)",
          "output_type": "error",
          "traceback": [
            "\u001b[0;36m  Cell \u001b[0;32mIn[135], line 2\u001b[0;36m\u001b[0m\n\u001b[0;31m    txt = \"This is a \"Data & Governance\" class\" # add escape characters to fix this script\u001b[0m\n\u001b[0m                      ^\u001b[0m\n\u001b[0;31mSyntaxError\u001b[0m\u001b[0;31m:\u001b[0m invalid syntax\n"
          ]
        }
      ],
      "source": [
        "txt = \"This is a \"Data & Governance\" class\" # add escape characters to fix this script\n",
        "print(txt)"
      ]
    },
    {
      "cell_type": "markdown",
      "metadata": {
        "id": "WAAHqNZAkwF8"
      },
      "source": [
        "##Booleans\n",
        "\n",
        "Booleans are a data type that represents one of two values: True or False. Let's explore ways of using Boolean values."
      ]
    },
    {
      "cell_type": "code",
      "execution_count": null,
      "metadata": {
        "id": "Lfle1O4ikwGA",
        "outputId": "f3bba927-9edc-49e3-c136-5f2d93066d76"
      },
      "outputs": [
        {
          "name": "stdout",
          "output_type": "stream",
          "text": [
            "True\n",
            "True\n"
          ]
        }
      ],
      "source": [
        "# Confirming how values are read by the interpreter\n",
        "print(bool(\"PUBPOL\"))\n",
        "print(bool(2130))"
      ]
    },
    {
      "cell_type": "code",
      "execution_count": null,
      "metadata": {
        "id": "eRz7vI6qkwGA",
        "outputId": "24832ff3-86bd-433f-e675-8d57f7f316a0"
      },
      "outputs": [
        {
          "data": {
            "text/plain": [
              "True"
            ]
          },
          "execution_count": 105,
          "metadata": {},
          "output_type": "execute_result"
        }
      ],
      "source": [
        "bool(\"abc\")\n",
        "# bool(0)\n",
        "# bool(123)\n",
        "# bool([\"apple\", \"cherry\", \"banana\"])"
      ]
    },
    {
      "cell_type": "code",
      "execution_count": null,
      "metadata": {
        "id": "JsPS7H8KkwGA",
        "outputId": "abd127bd-cf73-4afa-d4c9-e302ddcb1602"
      },
      "outputs": [
        {
          "name": "stdout",
          "output_type": "stream",
          "text": [
            "False\n"
          ]
        }
      ],
      "source": [
        "# Why does this script return the Boolean value \"False\"?\n",
        "class myclass():\n",
        "  def __len__(self):\n",
        "    return 0\n",
        "\n",
        "myobj = myclass()\n",
        "print(bool(myobj))"
      ]
    },
    {
      "cell_type": "code",
      "execution_count": null,
      "metadata": {
        "id": "_25ukVNSkwGA",
        "outputId": "822d5dff-5eff-442b-872d-f23afffc9826"
      },
      "outputs": [
        {
          "name": "stdout",
          "output_type": "stream",
          "text": [
            "YES!\n"
          ]
        }
      ],
      "source": [
        "# Conditional execution\n",
        "def myFunction() :\n",
        "  return True\n",
        "\n",
        "if myFunction():\n",
        "  print(\"YES!\")\n",
        "else:\n",
        "  print(\"NO!\")"
      ]
    },
    {
      "cell_type": "code",
      "execution_count": null,
      "metadata": {
        "id": "9To_QA6gkwGA",
        "outputId": "2aead276-2072-4923-ed04-416c7dd2b485"
      },
      "outputs": [
        {
          "name": "stdout",
          "output_type": "stream",
          "text": [
            "True\n"
          ]
        }
      ],
      "source": [
        "# Confirming data type\n",
        "x = 200\n",
        "print(isinstance(x, int))"
      ]
    },
    {
      "cell_type": "code",
      "execution_count": null,
      "metadata": {
        "id": "rUAr7AM4kwGA",
        "outputId": "6911f5a9-8642-44df-d6df-5f4c179fa102"
      },
      "outputs": [
        {
          "name": "stdout",
          "output_type": "stream",
          "text": [
            "True\n"
          ]
        }
      ],
      "source": [
        "# Comparisons\n",
        "print(10 > 9)"
      ]
    },
    {
      "cell_type": "markdown",
      "metadata": {
        "id": "hd1YgXkekwGA"
      },
      "source": [
        "##Operators in Python\n",
        "\n",
        "Operators in Python are used to perform operations in Python. Operations (and hence operators) are of the following types :\n",
        "+ Arithmetic operators\n",
        "+ Assignment operators\n",
        "+ Comparison operators\n",
        "+ Logical operators\n",
        "+ Identity operators\n",
        "+ Membership operators\n",
        "+ Bitwise operators\n",
        "\n",
        "Explore Python operators!"
      ]
    },
    {
      "cell_type": "code",
      "execution_count": null,
      "metadata": {
        "id": "eG-Zx68WkwGA",
        "outputId": "716b0cb7-e959-448d-f34b-efa9db90e1b2"
      },
      "outputs": [
        {
          "name": "stdout",
          "output_type": "stream",
          "text": [
            "2\n",
            "Brooks is a College in Cornell University!\n",
            "True\n"
          ]
        },
        {
          "data": {
            "text/plain": [
              "True"
            ]
          },
          "execution_count": 122,
          "metadata": {},
          "output_type": "execute_result"
        }
      ],
      "source": [
        "# Examples of each operator type\n",
        "# Execute this block of code to identify which operator is of which type!\n",
        "print(5//2)\n",
        "\n",
        "cornell = [\"brooks\", \"ilr\", \"dyson\"]\n",
        "if \"brooks\" in cornell:\n",
        "    print(\"Brooks is a College in Cornell University!\")\n",
        "\n",
        "print(bool(5 != 4))\n",
        "\n",
        "not(x < 5 and x < 10)"
      ]
    },
    {
      "cell_type": "markdown",
      "metadata": {
        "id": "xel94vLqkwGA"
      },
      "source": [
        "##Lists\n",
        "\n",
        "Lists are used to store multiple values in a single variable, e.g. the Cornell list above, stores the values \"brooks\", \"ilr\" and \"dyson\" in a single variable, \"cornell\", in the form of a list. While lists CAN be of multiple data types, they are USUALY of one data type.\n",
        "\n",
        "A list is a collection (array) and there are 4 types of collections in Python. Identify the differences across these 4 collection types:\n",
        "+ Lists\n",
        "+ Tuples\n",
        "+ Set\n",
        "+ Dictionary"
      ]
    },
    {
      "cell_type": "code",
      "execution_count": null,
      "metadata": {
        "id": "syZ_MWG9kwGA",
        "outputId": "c03dda30-0213-4d5c-a4b4-f9975e39fc13"
      },
      "outputs": [
        {
          "name": "stdout",
          "output_type": "stream",
          "text": [
            "3\n",
            "4\n"
          ]
        }
      ],
      "source": [
        "cornell = [\"brooks\", \"ilr\", \"dyson\"]\n",
        "print(len(cornell))\n",
        "\n",
        "cornell2 = list((\"PUBPOL-2130\", \"Undergraduate Program\", \"Public Policy\", \"Jeb E. Brooks\"))\n",
        "print(len(cornell2))\n",
        "\n",
        "# Did you notice the difference in syntax used to create these two lists?\n",
        "# What is the data type of these list? What is the data type of lists in general?"
      ]
    },
    {
      "cell_type": "markdown",
      "source": [
        "# Accessing Lists\n",
        "We played with accessing elements of strings using indices, do the same with lists! For example:"
      ],
      "metadata": {
        "id": "pyvEctO-5rIZ"
      }
    },
    {
      "cell_type": "code",
      "execution_count": null,
      "metadata": {
        "id": "F2d8FSYTkwGA",
        "outputId": "097f14c8-32e6-491f-fa7f-fcebb18e0de5"
      },
      "outputs": [
        {
          "name": "stdout",
          "output_type": "stream",
          "text": [
            "['Public Policy', 'Jeb E. Brooks']\n"
          ]
        }
      ],
      "source": [
        "cornell2 = list((\"PUBPOL-2130\", \"Undergraduate Program\", \"Public Policy\", \"Jeb E. Brooks\"))\n",
        "print(cornell2[2:])"
      ]
    }
  ],
  "metadata": {
    "kernelspec": {
      "display_name": "Python 3",
      "language": "python",
      "name": "python3"
    },
    "language_info": {
      "codemirror_mode": {
        "name": "ipython",
        "version": 3
      },
      "file_extension": ".py",
      "mimetype": "text/x-python",
      "name": "python",
      "nbconvert_exporter": "python",
      "pygments_lexer": "ipython3",
      "version": "3.13.1"
    },
    "colab": {
      "provenance": [],
      "include_colab_link": true
    }
  },
  "nbformat": 4,
  "nbformat_minor": 0
}